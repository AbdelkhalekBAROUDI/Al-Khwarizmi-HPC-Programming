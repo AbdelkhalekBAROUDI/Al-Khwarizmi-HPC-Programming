{
 "cells": [
  {
   "cell_type": "markdown",
   "id": "f70d89c5",
   "metadata": {},
   "source": [
    "<h1 align=\"center\">Python performance exercises</h1>"
   ]
  },
  {
   "cell_type": "markdown",
   "id": "b73f658f",
   "metadata": {},
   "source": [
    "## Python best practices exercises"
   ]
  },
  {
   "cell_type": "markdown",
   "id": "c5d1a3dc",
   "metadata": {},
   "source": [
    "### Exercise 1\n",
    "\n",
    "considering the following function for concatenating list strings with deliter."
   ]
  },
  {
   "cell_type": "code",
   "execution_count": 21,
   "id": "6afb1b12",
   "metadata": {},
   "outputs": [],
   "source": [
    "def ft_concatenate(l_strings, d):\n",
    "    \"\"\"concatenate list of strings into one string separated by delimeter\"\"\"\n",
    "    res = l_strings[0]\n",
    "    for e in l_strings[1:]:\n",
    "        res = res + d + e\n",
    "    return res"
   ]
  },
  {
   "cell_type": "markdown",
   "id": "ac1a6004",
   "metadata": {},
   "source": [
    "- profile the function and identify the bottlenecks.\n",
    "- improve speed up of the function\n",
    "*Hint: you may need to look to the string functions in python documentation*"
   ]
  },
  {
   "cell_type": "code",
   "execution_count": 22,
   "id": "9569d9bd",
   "metadata": {},
   "outputs": [
    {
     "name": "stdout",
     "output_type": "stream",
     "text": [
      "229 ns ± 9.2 ns per loop (mean ± std. dev. of 7 runs, 1000000 loops each)\n"
     ]
    }
   ],
   "source": [
    "#Profiling the function using line_profiler\n",
    "l_s = ['Monday','Tuesday','Wednesday','Thursday']\n",
    "d = ','\n",
    "%reload_ext line_profiler\n",
    "%lprun -f ft_concatenate ft_concatenate(l_s,d)\n",
    "\n",
    "################################################\n",
    "\n",
    "\n",
    "#Speed up the function\n",
    "def ft_concatenate_speeded(l_strings, d):\n",
    "    res = d.join(l_strings)\n",
    "    return res\n",
    "\n",
    "#profiling after speeding up\n",
    "%timeit ft_concatenate_speeded(l_s, d)"
   ]
  },
  {
   "cell_type": "markdown",
   "id": "964eab4f",
   "metadata": {},
   "source": [
    "According to the table given, we can notice that the loop is the bottleneck. We improved the function using a predefined function. "
   ]
  },
  {
   "cell_type": "markdown",
   "id": "a37f59e7",
   "metadata": {},
   "source": [
    "### Exercise 2\n",
    "\n",
    "In this exercise you will solve the following problem using two methods bruteforce mehode, and fast method.\n",
    "\n",
    "**Problem:** You are given a list of n integers, and your task is to calculate the number of distinct values in the list.\n",
    "\n",
    "**Example**\n",
    "- Input:\n",
    "5\n",
    "2 3 2 2 3\n",
    "\n",
    "- Output:\n",
    "2\n",
    "\n",
    "**Implement the following methodes:**\n",
    "\n",
    "1. **bruteforce mehode:** create an empty list and start adding items for the given list without adding the previous item add, at the end the result list will contain unique values, print lenght of the list and you are done. \n",
    "2. **fast method** think of using Set data structure.\n",
    "\n",
    "- time the two methods, what do you think?"
   ]
  },
  {
   "cell_type": "code",
   "execution_count": 23,
   "id": "da8e5f4d",
   "metadata": {},
   "outputs": [],
   "source": [
    "# bruteforce fast method\n",
    "def bruteforce(liste):\n",
    "    l = []\n",
    "    c = 0\n",
    "    for i in liste:\n",
    "        if i not in l:\n",
    "            c += 1\n",
    "            l.append(i)\n",
    "    return c        "
   ]
  },
  {
   "cell_type": "code",
   "execution_count": 24,
   "id": "25564538",
   "metadata": {},
   "outputs": [],
   "source": [
    "# write fast method\n",
    "def fast_method(liste):\n",
    "    return len(set(liste))"
   ]
  },
  {
   "cell_type": "code",
   "execution_count": 25,
   "id": "098c810b",
   "metadata": {},
   "outputs": [
    {
     "name": "stdout",
     "output_type": "stream",
     "text": [
      "1.33 µs ± 33.8 ns per loop (mean ± std. dev. of 7 runs, 1000000 loops each)\n",
      "361 ns ± 2.75 ns per loop (mean ± std. dev. of 7 runs, 1000000 loops each)\n"
     ]
    }
   ],
   "source": [
    "# Creat two random lists of numbers for testing\n",
    "l1 = [1,1,2,3,2,4,6,1,4,3,7]\n",
    "l2 = [0,7,6,7,3,3,1,7,9,5,5]\n",
    "\n",
    "# time the two methods\n",
    "%timeit bruteforce(l1)\n",
    "%timeit fast_method(l1)"
   ]
  },
  {
   "cell_type": "markdown",
   "id": "e81b7278",
   "metadata": {},
   "source": [
    "As shown above, we notice that fast_method is actually much faster than bruteforce method."
   ]
  },
  {
   "cell_type": "markdown",
   "id": "5a68762d",
   "metadata": {},
   "source": [
    "## Cython exercises"
   ]
  },
  {
   "cell_type": "markdown",
   "id": "ba8d100f",
   "metadata": {},
   "source": [
    "### Exercise 1"
   ]
  },
  {
   "cell_type": "markdown",
   "id": "a5cf5018",
   "metadata": {},
   "source": [
    "1. load the cython extension."
   ]
  },
  {
   "cell_type": "code",
   "execution_count": 26,
   "id": "0910c268",
   "metadata": {},
   "outputs": [],
   "source": [
    "%reload_ext cython"
   ]
  },
  {
   "cell_type": "markdown",
   "id": "75576b84",
   "metadata": {},
   "source": [
    "2. Condidering the following polynome function:"
   ]
  },
  {
   "cell_type": "code",
   "execution_count": 27,
   "id": "d63e62d1",
   "metadata": {},
   "outputs": [],
   "source": [
    "def poly(a,b):\n",
    "    return 10.5 * a + 3 * (b**2)"
   ]
  },
  {
   "cell_type": "markdown",
   "id": "b2da1a74",
   "metadata": {},
   "source": [
    "- Create an equivalent Cython function of `poly` with name `poly_cy` without any cython improvement, just make its cell a cython cell."
   ]
  },
  {
   "cell_type": "code",
   "execution_count": 28,
   "id": "25b97ce1",
   "metadata": {},
   "outputs": [],
   "source": [
    "%%cython\n",
    "\n",
    "def poly_cy(a, b):\n",
    "    return 10.5 * a + 3 * (b**2)"
   ]
  },
  {
   "cell_type": "markdown",
   "id": "779058dc",
   "metadata": {},
   "source": [
    "\n"
   ]
  },
  {
   "cell_type": "markdown",
   "id": "0cf47dbe",
   "metadata": {},
   "source": [
    "3. time the performance of Python and Cython version of the function, what is the factor of speed up here between the two verions."
   ]
  },
  {
   "cell_type": "code",
   "execution_count": 29,
   "id": "824387d6",
   "metadata": {
    "scrolled": true
   },
   "outputs": [
    {
     "name": "stdout",
     "output_type": "stream",
     "text": [
      "413 ns ± 13.4 ns per loop (mean ± std. dev. of 7 runs, 1000000 loops each)\n",
      "359 ns ± 7.71 ns per loop (mean ± std. dev. of 7 runs, 1000000 loops each)\n"
     ]
    }
   ],
   "source": [
    "%timeit poly(2,3)\n",
    "%timeit poly_cy(2,3)"
   ]
  },
  {
   "cell_type": "markdown",
   "id": "f2a0ff7b",
   "metadata": {},
   "source": [
    "Actually, this version doesn't seem to be optimized, we get a very slight speed up."
   ]
  },
  {
   "cell_type": "markdown",
   "id": "c7bae861",
   "metadata": {},
   "source": [
    "4. Now lets work on another examples using loop.\n",
    "    - rewrite the same function below fib that calculate fibonacci series using cython, but now try to add type for the variables used inside it, add a prefix `_cy` to your new cython function."
   ]
  },
  {
   "cell_type": "code",
   "execution_count": 30,
   "id": "6b4e1cc5",
   "metadata": {},
   "outputs": [],
   "source": [
    "def fib(n):\n",
    "    a, b = 1, 1\n",
    "    for i in range(n):\n",
    "        a, b = a + b, a\n",
    "\n",
    "    return a"
   ]
  },
  {
   "cell_type": "code",
   "execution_count": 31,
   "id": "598e7014",
   "metadata": {},
   "outputs": [],
   "source": [
    "%%cython\n",
    "\n",
    "def fib_cy(int n):\n",
    "    cdef int a, b, i\n",
    "    for i in range(n):\n",
    "        a, b = a + b, a\n",
    "    return a    "
   ]
  },
  {
   "cell_type": "markdown",
   "id": "99c71881",
   "metadata": {},
   "source": [
    "- time the two function for fibonacci series, with n = 20, what is the factor of speed now, What do you think?"
   ]
  },
  {
   "cell_type": "code",
   "execution_count": 32,
   "id": "31fbf30b",
   "metadata": {
    "scrolled": true
   },
   "outputs": [
    {
     "name": "stdout",
     "output_type": "stream",
     "text": [
      "1.42 µs ± 38.5 ns per loop (mean ± std. dev. of 7 runs, 1000000 loops each)\n",
      "84.6 ns ± 0.297 ns per loop (mean ± std. dev. of 7 runs, 10000000 loops each)\n"
     ]
    }
   ],
   "source": [
    "# write your code here\n",
    "%timeit fib(20)\n",
    "%timeit fib_cy(20)"
   ]
  },
  {
   "cell_type": "markdown",
   "id": "b3fd2993",
   "metadata": {},
   "source": [
    "In this version, we notice that we are in 13x speed up. Therefore, specifying variables types has helped Cython generate more optimized C code."
   ]
  },
  {
   "cell_type": "markdown",
   "id": "8b57f304",
   "metadata": {},
   "source": [
    "5. Recursive functions are functions that call themselves during their execution. Another interesting property of the Fibonacci series is that it can be written as a recursive function. That’s because each item depends on the values of other items (namely item n-1 and item n-2)\n",
    "\n",
    "- Rewrite the fib function using recursion. Is it faster than the non-recursive version? Does Cythonizing it give even more of an advantage? "
   ]
  },
  {
   "cell_type": "code",
   "execution_count": 33,
   "id": "2fa18c9d",
   "metadata": {},
   "outputs": [
    {
     "name": "stdout",
     "output_type": "stream",
     "text": [
      "1.48 µs ± 32 ns per loop (mean ± std. dev. of 7 runs, 1000000 loops each)\n",
      "2.77 ms ± 10.4 µs per loop (mean ± std. dev. of 7 runs, 100 loops each)\n"
     ]
    }
   ],
   "source": [
    "# write your code here\n",
    "def fib_rec(n):\n",
    "    if n <= 1:\n",
    "        return n\n",
    "    else:\n",
    "        return fib_rec(n-1) + fib_rec(n-2)\n",
    "    \n",
    "%timeit fib(20)\n",
    "%timeit fib_rec(20)"
   ]
  },
  {
   "cell_type": "markdown",
   "id": "964e0d31",
   "metadata": {},
   "source": [
    "We notice that non-recursive version is faster than the recursive version"
   ]
  },
  {
   "cell_type": "code",
   "execution_count": 34,
   "id": "c744df07",
   "metadata": {},
   "outputs": [],
   "source": [
    "%%cython\n",
    "\n",
    "def fib_rec_cy(int n):\n",
    "    if n <= 1:\n",
    "        return n\n",
    "    else:\n",
    "        return fib_rec_cy(n-1) + fib_rec_cy(n-2)"
   ]
  },
  {
   "cell_type": "code",
   "execution_count": 35,
   "id": "c5f89a67",
   "metadata": {
    "scrolled": true
   },
   "outputs": [
    {
     "name": "stdout",
     "output_type": "stream",
     "text": [
      "1.38 µs ± 29.6 ns per loop (mean ± std. dev. of 7 runs, 1000000 loops each)\n",
      "737 µs ± 23.6 µs per loop (mean ± std. dev. of 7 runs, 1000 loops each)\n"
     ]
    }
   ],
   "source": [
    "%timeit fib(20)\n",
    "%timeit fib_rec_cy(20)"
   ]
  },
  {
   "cell_type": "markdown",
   "id": "9ef0ef2f",
   "metadata": {},
   "source": [
    "As shown above, even cythonizing the recursive version didn't give it more of an advantage. "
   ]
  },
  {
   "cell_type": "markdown",
   "id": "e2c5667c",
   "metadata": {},
   "source": [
    "### Exercise 2\n",
    "\n",
    "- Monte Carlo methods are a broad class of computational algorithms that rely on repeated random sampling to obtain numerical results. \n",
    "- One of the basic examples of getting started with the Monte Carlo algorithm is the estimation of Pi.\n",
    "\n",
    "**Estimation of Pi**\n",
    "\n",
    "- The idea is to simulate random (x, y) points in a 2-D plane with domain as a square of side 1 unit. \n",
    "- Imagine a circle inside the same domain with same diameter and inscribed into the square. \n",
    "- We then calculate the ratio of number points that lied inside the circle and total number of generated points. \n",
    "- Refer to the image below:\n",
    "\n",
    "![demo](../data/MonteCarloPlot.png)\n",
    "\n",
    "We know that area of the square is 1 unit sq while that of circle is $\\pi \\ast  (\\frac{1}{2})^{2} = \\frac{\\pi}{4}$. Now for a very large number of generated points,\n",
    "\n",
    "![demo](../data/MonteCarloCalc.png)\n",
    "\n",
    "\n",
    "## The Algorithm\n",
    "\n",
    "1. Initialize cile_points, square_points and interval to 0.\n",
    "2. Generate random point x.\n",
    "3. Generate random point y.\n",
    "4. Calculate d = x*x + y*y.\n",
    "5. If d <= 1, increment circle_points.\n",
    "6. Increment square_points.\n",
    "7. Increment interval.\n",
    "8. If increment < NO_OF_ITERATIONS, repeat from 2.\n",
    "9. Calculate pi = 4*(circle_points/square_points).\n",
    "10. Terminate."
   ]
  },
  {
   "cell_type": "markdown",
   "id": "aac70cef",
   "metadata": {},
   "source": [
    "**Your mission:** time the function `monte_carlo_pi`, identify the bottlenecks and create a new version using cython functionality to speed up monte carlo simulation for PI, use 100,000 points and compare the speed up factor between python and cython, considering the following optimizations:\n",
    "- add type for variables used.\n",
    "- add type for the function\n",
    "- use c rand function instead of python rand function.\n",
    " \n",
    "*Hint: you can import function from C libraries using the following approach `from libc.<name of c library> cimport <library function name>`, replace the holders `<>` with the right identities for the current problem*"
   ]
  },
  {
   "cell_type": "code",
   "execution_count": 36,
   "id": "e0c2032b",
   "metadata": {},
   "outputs": [],
   "source": [
    "import random\n",
    "def monte_carlo_pi(nsamples):\n",
    "    pi = 0.\n",
    "    circle_points = 0\n",
    "    for i in range(nsamples):\n",
    "        x = random.uniform(-1,1)\n",
    "        y = random.uniform(-1,1)\n",
    "        if x**2 + y**2 <= 1:\n",
    "            circle_points += 1\n",
    "    pi = 4 * (circle_points / nsamples)    \n",
    "    return pi"
   ]
  },
  {
   "cell_type": "code",
   "execution_count": 37,
   "id": "8cdf8167",
   "metadata": {},
   "outputs": [],
   "source": [
    "%%cython\n",
    "from libc.stdlib cimport rand, RAND_MAX\n",
    "\n",
    "cpdef float monte_carlo_pi_cy(int nsamples):\n",
    "    cdef int i, circle_points\n",
    "    cdef float x, y, pi\n",
    "    pi = 0\n",
    "    circle_points = 0\n",
    "    for i in range(nsamples):\n",
    "        x = - 1 + rand() / (RAND_MAX / 2)\n",
    "        y = - 1 + rand() / (RAND_MAX / 2);\n",
    "        if x**2 + y**2 <= 1:\n",
    "            circle_points += 1\n",
    "    pi = 4 * (circle_points / nsamples)    \n",
    "    return pi    "
   ]
  },
  {
   "cell_type": "code",
   "execution_count": 38,
   "id": "216c4783",
   "metadata": {
    "scrolled": false
   },
   "outputs": [
    {
     "name": "stdout",
     "output_type": "stream",
     "text": [
      "103 ms ± 1.91 ms per loop (mean ± std. dev. of 7 runs, 10 loops each)\n",
      "6.65 ms ± 142 µs per loop (mean ± std. dev. of 7 runs, 100 loops each)\n"
     ]
    }
   ],
   "source": [
    "%timeit monte_carlo_pi(100000)\n",
    "%timeit monte_carlo_pi_cy(100000)"
   ]
  },
  {
   "cell_type": "markdown",
   "id": "dcb9b8a8",
   "metadata": {},
   "source": [
    "We can notice that cythonizing monte carlo function gives us a 14X speed up."
   ]
  },
  {
   "cell_type": "markdown",
   "id": "926e2caf",
   "metadata": {},
   "source": [
    "## Numba exercises"
   ]
  },
  {
   "cell_type": "markdown",
   "id": "6e3f0db2",
   "metadata": {},
   "source": [
    "### Exercise 1\n",
    "\n",
    "Previously we considered how to approximateby Monte Carlo.\n",
    "\n",
    "- Use the same idea here, but make the code efficient using Numba.\n",
    "- Compare speed with and without Numba when the sample size is large."
   ]
  },
  {
   "cell_type": "code",
   "execution_count": 39,
   "id": "2b4c07b8",
   "metadata": {},
   "outputs": [
    {
     "name": "stdout",
     "output_type": "stream",
     "text": [
      "96.4 ms ± 2.67 ms per loop (mean ± std. dev. of 7 runs, 10 loops each)\n",
      "1.85 ms ± 147 µs per loop (mean ± std. dev. of 7 runs, 1 loop each)\n"
     ]
    }
   ],
   "source": [
    "from numba import njit\n",
    "@njit\n",
    "def monte_carlo_pi_num(nsamples):\n",
    "    pi = 0.\n",
    "    circle_points = 0\n",
    "    for i in range(nsamples):\n",
    "        x = random.uniform(-1,1)\n",
    "        y = random.uniform(-1,1)\n",
    "        if x**2 + y**2 <= 1:\n",
    "            circle_points += 1\n",
    "    pi = 4 * (circle_points / nsamples)    \n",
    "    return pi\n",
    "\n",
    "%timeit monte_carlo_pi(100000)\n",
    "%timeit monte_carlo_pi_num(100000)"
   ]
  },
  {
   "cell_type": "markdown",
   "id": "dc8f9162",
   "metadata": {},
   "source": [
    "We can note that monte carlo function with numba is 53X faster than the version without. "
   ]
  },
  {
   "cell_type": "markdown",
   "id": "80b2dfc0",
   "metadata": {},
   "source": [
    "## Pyccel Exercises"
   ]
  },
  {
   "cell_type": "markdown",
   "id": "110bb770",
   "metadata": {},
   "source": [
    "### Exercise 1\n",
    "\n",
    "considering the following algorithm for binomial coefficient implementation in python.\n",
    "```python\n",
    "def factorial(n : int) -> int:\n",
    "    # to be implemented\n",
    "\n",
    "def binomial_coefficient(n : int, k : int):\n",
    "    num = factorial(n)\n",
    "    den = factorial(k) * factorial(n - k)\n",
    "    return num // den\n",
    "```\n",
    "1. complete the factorial function using recursive methode.\n",
    "2. profile the `binomial_coefficient`.\n",
    "3. try to improve factorial function by using iterative method.\n",
    "4. Use pyccel to accelerate the function.\n",
    "5. compare the benchmark of the two version python vs pyccel."
   ]
  },
  {
   "cell_type": "code",
   "execution_count": 79,
   "id": "6aa7a553",
   "metadata": {},
   "outputs": [],
   "source": [
    "def factorial(n : int) -> int:\n",
    "    if n <= 0:\n",
    "        return 1\n",
    "    else:\n",
    "        return n * factorial(n-1)\n",
    "\n",
    "def binomial_coefficient(n : int, k : int):\n",
    "    num = factorial(n)\n",
    "    den = factorial(k) * factorial(n - k)\n",
    "    return num // den\n",
    "\n",
    "%lprun -f binomial_coefficient binomial_coefficient(4,10)"
   ]
  },
  {
   "cell_type": "markdown",
   "id": "44318daf",
   "metadata": {},
   "source": [
    "After profiling the function, we notice that the bottleneck is factorial function."
   ]
  },
  {
   "cell_type": "code",
   "execution_count": 100,
   "id": "fed69813",
   "metadata": {
    "scrolled": true
   },
   "outputs": [
    {
     "name": "stdout",
     "output_type": "stream",
     "text": [
      "Overwriting binomial_pyccel.py\n"
     ]
    }
   ],
   "source": [
    "%%writefile binomial_pyccel.py\n",
    "\n",
    "def factorial_iter_pyc(n : int) -> int:\n",
    "    f = 1\n",
    "    if n <= 0:\n",
    "        return 1\n",
    "    else:\n",
    "        for i in range(1, n+1):\n",
    "            f = f * n\n",
    "    return f\n",
    "\n",
    "def binomial_coefficient_iter(n : int, k : int):\n",
    "    num = factorial_iter_pyc(n)\n",
    "    den = factorial_iter_pyc(k) * factorial_iter_pyc(n - k)\n",
    "    return num // den\n",
    "\n"
   ]
  },
  {
   "cell_type": "markdown",
   "id": "c214eace",
   "metadata": {},
   "source": [
    "We compiled the python script above using pyccel in terminal using the command :\n",
    "```bash script\n",
    "pyccel --language fortran binomial_pyccel.py\n",
    "```\n"
   ]
  },
  {
   "cell_type": "code",
   "execution_count": 106,
   "id": "85d4cd21",
   "metadata": {
    "scrolled": true
   },
   "outputs": [
    {
     "name": "stdout",
     "output_type": "stream",
     "text": [
      "2.46 µs ± 181 ns per loop (mean ± std. dev. of 7 runs, 100000 loops each)\n",
      "229 ns ± 6.21 ns per loop (mean ± std. dev. of 7 runs, 1000000 loops each)\n"
     ]
    }
   ],
   "source": [
    "#import function from the pyccelized python module\n",
    "from binomial_pyccel import binomial_coefficient_iter\n",
    "\n",
    "%timeit binomial_coefficient(4,10)\n",
    "%timeit binomial_coefficient_iter(4,10)"
   ]
  }
 ],
 "metadata": {
  "hide_input": false,
  "kernelspec": {
   "display_name": "Python 3 (ipykernel)",
   "language": "python",
   "name": "python3"
  },
  "language_info": {
   "codemirror_mode": {
    "name": "ipython",
    "version": 3
   },
   "file_extension": ".py",
   "mimetype": "text/x-python",
   "name": "python",
   "nbconvert_exporter": "python",
   "pygments_lexer": "ipython3",
   "version": "3.9.7"
  }
 },
 "nbformat": 4,
 "nbformat_minor": 5
}
